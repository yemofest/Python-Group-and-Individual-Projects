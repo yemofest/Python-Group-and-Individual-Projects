{
 "cells": [
  {
   "cell_type": "markdown",
   "id": "ed46f0c5",
   "metadata": {},
   "source": [
    "# Solution to Q1_ Tuples"
   ]
  },
  {
   "cell_type": "code",
   "execution_count": 1,
   "id": "a468d026",
   "metadata": {},
   "outputs": [
    {
     "name": "stdout",
     "output_type": "stream",
     "text": [
      "[1, 2, 3, 4, 5, 6, 7, 8, 9, 10]\n"
     ]
    }
   ],
   "source": [
    "Grp_tuple = [1, 2, 3, 4, 5, 6, 7, 8, 9, 10]\n",
    "print(Grp_tuple)"
   ]
  },
  {
   "cell_type": "code",
   "execution_count": 2,
   "id": "62d6ca66",
   "metadata": {},
   "outputs": [
    {
     "name": "stdout",
     "output_type": "stream",
     "text": [
      "['yes']\n"
     ]
    }
   ],
   "source": [
    "t = (1, 2, 3, 4, 5, 6, 7, 8, 9, 10)\n",
    "n = 3\n",
    "Grp_tuple = [i for i in t if i == n]\n",
    "print([\"yes\" if Grp_tuple else \"no\"])"
   ]
  },
  {
   "cell_type": "code",
   "execution_count": 3,
   "id": "00f2b20f",
   "metadata": {},
   "outputs": [
    {
     "name": "stdout",
     "output_type": "stream",
     "text": [
      "[1, 2, 3, 4, 5, 6, 7, 8, 9, 10, 11]\n"
     ]
    }
   ],
   "source": [
    "Grp_tuple = [1, 2, 3, 4, 5, 6, 7, 8, 9, 10]\n",
    "Grp_tuple.append(11)\n",
    "print(Grp_tuple)"
   ]
  },
  {
   "cell_type": "markdown",
   "id": "7eea76bc",
   "metadata": {},
   "source": [
    "# Solution To Question 2 on Dictionaries"
   ]
  },
  {
   "cell_type": "code",
   "execution_count": 4,
   "id": "a766c9b7",
   "metadata": {},
   "outputs": [
    {
     "name": "stdout",
     "output_type": "stream",
     "text": [
      "{'name': 'Alex', 'age': 24, 'country': 'Nigeria'}\n"
     ]
    }
   ],
   "source": [
    "thisdict = {\n",
    "  \"name\": \"Alex\",\n",
    "    \"age\": 24,\n",
    "  \"country\": \"Nigeria\"\n",
    "}\n",
    "print(thisdict)"
   ]
  },
  {
   "cell_type": "code",
   "execution_count": 5,
   "id": "1e498a23",
   "metadata": {},
   "outputs": [
    {
     "name": "stdout",
     "output_type": "stream",
     "text": [
      "age\n"
     ]
    }
   ],
   "source": [
    "print(\"age\")"
   ]
  },
  {
   "cell_type": "code",
   "execution_count": 6,
   "id": "98206e3f",
   "metadata": {},
   "outputs": [
    {
     "name": "stdout",
     "output_type": "stream",
     "text": [
      "{'name': 'Alex', 'age': 24, 'country': 'USA'}\n"
     ]
    }
   ],
   "source": [
    "thisdict = {\n",
    "  \"name\": \"Alex\",\n",
    "    \"age\": 24,\n",
    "  \"country\": \"Nigeria\"}\n",
    "thisdict.update({\"country\": \"USA\"})\n",
    "print(thisdict)\n"
   ]
  },
  {
   "cell_type": "code",
   "execution_count": 7,
   "id": "ccee8848",
   "metadata": {},
   "outputs": [
    {
     "name": "stdout",
     "output_type": "stream",
     "text": [
      "{'name': 'Alex', 'age': 24, 'country': 'USA', 'race': 'Black'}\n"
     ]
    }
   ],
   "source": [
    "thisdict = {\n",
    "  \"name\": \"Alex\",\n",
    "    \"age\": 24,\n",
    "  \"country\": \"USA\", \"race\": \"Black\"}\n",
    "print(thisdict)"
   ]
  },
  {
   "cell_type": "code",
   "execution_count": 8,
   "id": "ca3c4233",
   "metadata": {},
   "outputs": [
    {
     "name": "stdout",
     "output_type": "stream",
     "text": [
      "{'name': 'Alex', 'age': 24, 'race': 'Black'}\n"
     ]
    }
   ],
   "source": [
    "thisdict = {\n",
    "  \"name\": \"Alex\",\n",
    "    \"age\": 24,\n",
    "  \"country\": \"USA\", \"race\": \"Black\"}\n",
    "\n",
    "thisdict.pop(\"country\")\n",
    "print(thisdict)"
   ]
  },
  {
   "cell_type": "markdown",
   "id": "7bf38e86",
   "metadata": {},
   "source": [
    "# Mathematical Operations Solution_Q3"
   ]
  },
  {
   "cell_type": "code",
   "execution_count": 9,
   "id": "089ff0bf",
   "metadata": {},
   "outputs": [
    {
     "name": "stdout",
     "output_type": "stream",
     "text": [
      "7\n"
     ]
    }
   ],
   "source": [
    "a = 3\n",
    "b = 4\n",
    "a + b\n",
    "print(a + b)"
   ]
  },
  {
   "cell_type": "code",
   "execution_count": 10,
   "id": "00a1ccca",
   "metadata": {},
   "outputs": [
    {
     "name": "stdout",
     "output_type": "stream",
     "text": [
      "12\n"
     ]
    }
   ],
   "source": [
    "a * b\n",
    "print(a*b)"
   ]
  },
  {
   "cell_type": "code",
   "execution_count": 11,
   "id": "1fb0ba92",
   "metadata": {},
   "outputs": [
    {
     "name": "stdout",
     "output_type": "stream",
     "text": [
      "10\n"
     ]
    }
   ],
   "source": [
    "4 + 6\n",
    "print (4 + 6)"
   ]
  },
  {
   "cell_type": "code",
   "execution_count": 12,
   "id": "ea4ff5c1",
   "metadata": {},
   "outputs": [
    {
     "name": "stdout",
     "output_type": "stream",
     "text": [
      "2\n"
     ]
    }
   ],
   "source": [
    "6 - 4\n",
    "print(6-4)"
   ]
  },
  {
   "cell_type": "code",
   "execution_count": 13,
   "id": "df590644",
   "metadata": {},
   "outputs": [
    {
     "name": "stdout",
     "output_type": "stream",
     "text": [
      "24\n"
     ]
    }
   ],
   "source": [
    "6*4\n",
    "print(6*4)"
   ]
  },
  {
   "cell_type": "code",
   "execution_count": 14,
   "id": "ea53966f",
   "metadata": {},
   "outputs": [
    {
     "data": {
      "text/plain": [
       "1.5"
      ]
     },
     "execution_count": 14,
     "metadata": {},
     "output_type": "execute_result"
    }
   ],
   "source": [
    "6/4\n"
   ]
  },
  {
   "cell_type": "code",
   "execution_count": 15,
   "id": "257ae0f7",
   "metadata": {},
   "outputs": [
    {
     "name": "stdout",
     "output_type": "stream",
     "text": [
      "2\n"
     ]
    }
   ],
   "source": [
    "6%4\n",
    "print(6%4)"
   ]
  },
  {
   "cell_type": "code",
   "execution_count": 21,
   "id": "c24b282f",
   "metadata": {},
   "outputs": [
    {
     "name": "stdout",
     "output_type": "stream",
     "text": [
      "1296\n"
     ]
    }
   ],
   "source": [
    "6**4\n",
    "print(6**4)"
   ]
  },
  {
   "cell_type": "code",
   "execution_count": 17,
   "id": "d3067367",
   "metadata": {},
   "outputs": [
    {
     "name": "stdout",
     "output_type": "stream",
     "text": [
      "The square root of 10.0 is 3.2\n"
     ]
    }
   ],
   "source": [
    "num = 10\n",
    "num_sqrt = num ** 0.5\n",
    "print('The square root of %0.1f is %0.1f'%(num ,num_sqrt))"
   ]
  },
  {
   "cell_type": "markdown",
   "id": "42e2d264",
   "metadata": {},
   "source": [
    "# Casting Solution_Q4"
   ]
  },
  {
   "cell_type": "code",
   "execution_count": 18,
   "id": "5e641751",
   "metadata": {},
   "outputs": [
    {
     "name": "stdout",
     "output_type": "stream",
     "text": [
      "5\n"
     ]
    }
   ],
   "source": [
    "num_str = \"5\"\n",
    "y = int(num_str)\n",
    "print(y)"
   ]
  },
  {
   "cell_type": "code",
   "execution_count": 19,
   "id": "cf356014",
   "metadata": {},
   "outputs": [
    {
     "name": "stdout",
     "output_type": "stream",
     "text": [
      "5.0\n"
     ]
    }
   ],
   "source": [
    "num_str = \"5\"\n",
    "q = float(num_str)\n",
    "print(q)"
   ]
  }
 ],
 "metadata": {
  "kernelspec": {
   "display_name": "Python 3 (ipykernel)",
   "language": "python",
   "name": "python3"
  },
  "language_info": {
   "codemirror_mode": {
    "name": "ipython",
    "version": 3
   },
   "file_extension": ".py",
   "mimetype": "text/x-python",
   "name": "python",
   "nbconvert_exporter": "python",
   "pygments_lexer": "ipython3",
   "version": "3.12.0"
  }
 },
 "nbformat": 4,
 "nbformat_minor": 5
}
